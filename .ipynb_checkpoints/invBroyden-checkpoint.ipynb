{
 "cells": [
  {
   "cell_type": "markdown",
   "metadata": {},
   "source": [
    "# 逆Broyden方法"
   ]
  },
  {
   "cell_type": "code",
   "execution_count": null,
   "metadata": {},
   "outputs": [],
   "source": [
    "import numpy as np\n",
    "from newton import f"
   ]
  },
  {
   "cell_type": "code",
   "execution_count": null,
   "metadata": {},
   "outputs": [],
   "source": [
    "def invBroyden(e,N,x,B):\n",
    "    k = 0\n",
    "    err = 1\n",
    "    while k < N and err > e:\n",
    "        print(k)\n",
    "        d = -np.dot(B,f(x))\n",
    "        err = np.linalg.norm(d)\n",
    "        x1 = x + d\n",
    "        y = f(x1) - f(x)\n",
    "        B = B + np.dot( np.dot( ( d - np.dot(B , y) ) , np.transpose(d)) , B )/( np.transpose(d) @ B @ y)\n",
    "        k = k + 1\n",
    "        x = x1\n",
    "        print('x:',x)\n",
    "        \n",
    "    return x\n"
   ]
  },
  {
   "cell_type": "code",
   "execution_count": null,
   "metadata": {},
   "outputs": [],
   "source": [
    "x0 = np.array([ [30],\n",
    "                    [10] ])\n",
    "N = 100\n",
    "e = 0.001\n",
    "B=np.eye(2)\n",
    "ans=invBroyden(e , N , x0 ,B)\n",
    "print(ans)"
   ]
  },
  {
   "cell_type": "code",
   "execution_count": null,
   "metadata": {},
   "outputs": [],
   "source": []
  }
 ],
 "metadata": {
  "kernelspec": {
   "display_name": "Python 3",
   "language": "python",
   "name": "python3"
  },
  "language_info": {
   "codemirror_mode": {
    "name": "ipython",
    "version": 3
   },
   "file_extension": ".py",
   "mimetype": "text/x-python",
   "name": "python",
   "nbconvert_exporter": "python",
   "pygments_lexer": "ipython3",
   "version": "3.7.3"
  }
 },
 "nbformat": 4,
 "nbformat_minor": 2
}
