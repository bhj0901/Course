{
 "cells": [
  {
   "cell_type": "markdown",
   "metadata": {},
   "source": [
    "# broyden 方法"
   ]
  },
  {
   "cell_type": "code",
   "execution_count": null,
   "metadata": {},
   "outputs": [],
   "source": [
    "import numpy as np\n",
    "from newton import *"
   ]
  },
  {
   "cell_type": "code",
   "execution_count": null,
   "metadata": {},
   "outputs": [],
   "source": [
    "def broyden(e,N,x,A0) :\n",
    "    #e 为误差，N为最大迭代次数，x为初试迭代点\n",
    "    k=0\n",
    "    xk = x\n",
    "    Ak=A0\n",
    "    err = 1\n",
    "    while k<N and err > e:\n",
    "        print(k)\n",
    "        d = np.linalg.solve(Ak,-f(xk))\n",
    "        err = np.linalg.norm(d)\n",
    "        xk1 = xk + d\n",
    "        yk = f(xk1) - f(xk) \n",
    "        print('d:',d)\n",
    "        Ak = Ak + np.dot((yk - np.dot(Ak,d)),d.T)/(d.T@d)\n",
    "        print('x:',xk)\n",
    "        k = k + 1\n",
    "        xk = xk1\n",
    "    return xk\n"
   ]
  },
  {
   "cell_type": "code",
   "execution_count": null,
   "metadata": {
    "scrolled": true
   },
   "outputs": [],
   "source": [
    "x0 = np.array([ [40],[10] ])\n",
    "N = 200\n",
    "e = 0.001\n",
    "A=np.eye(2)\n",
    "result=broyden(e , N , x0 ,A)\n",
    "print(result)   "
   ]
  },
  {
   "cell_type": "code",
   "execution_count": null,
   "metadata": {},
   "outputs": [],
   "source": []
  },
  {
   "cell_type": "code",
   "execution_count": null,
   "metadata": {},
   "outputs": [],
   "source": []
  },
  {
   "cell_type": "code",
   "execution_count": null,
   "metadata": {},
   "outputs": [],
   "source": []
  }
 ],
 "metadata": {
  "kernelspec": {
   "display_name": "Python 3",
   "language": "python",
   "name": "python3"
  },
  "language_info": {
   "codemirror_mode": {
    "name": "ipython",
    "version": 3
   },
   "file_extension": ".py",
   "mimetype": "text/x-python",
   "name": "python",
   "nbconvert_exporter": "python",
   "pygments_lexer": "ipython3",
   "version": "3.7.3"
  }
 },
 "nbformat": 4,
 "nbformat_minor": 2
}
