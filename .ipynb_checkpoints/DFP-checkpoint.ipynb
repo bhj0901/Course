{
 "cells": [
  {
   "cell_type": "markdown",
   "metadata": {},
   "source": [
    "# DFP方法"
   ]
  },
  {
   "cell_type": "code",
   "execution_count": 1,
   "metadata": {},
   "outputs": [],
   "source": [
    "import numpy as np\n",
    "from newton import f"
   ]
  },
  {
   "cell_type": "code",
   "execution_count": 2,
   "metadata": {},
   "outputs": [],
   "source": [
    "def DFP(e,N,x,B):\n",
    "    err = 1\n",
    "    k = 0 \n",
    "    while k < N and err >e:\n",
    "        d = -B@f(x)\n",
    "        err = np.linalg.norm(d)\n",
    "        x1 = x +d\n",
    "        y = f(x1) - f(x)\n",
    "        B = B + (d@d.T)/(d.T@y) - B@y@y.T@B/(y.T@B@y)\n",
    "        k = k + 1\n",
    "        x = x1\n",
    "    return x"
   ]
  },
  {
   "cell_type": "code",
   "execution_count": 5,
   "metadata": {},
   "outputs": [
    {
     "name": "stdout",
     "output_type": "stream",
     "text": [
      "[[1.00000161]\n",
      " [2.0000002 ]]\n"
     ]
    }
   ],
   "source": [
    "x0 = np.array([ [1],[1] ])\n",
    "N = 500\n",
    "e = 0.001\n",
    "B=np.eye(2)\n",
    "ans=DFP(e , N , x0 ,B)\n",
    "print(ans)   "
   ]
  },
  {
   "cell_type": "code",
   "execution_count": null,
   "metadata": {},
   "outputs": [],
   "source": []
  }
 ],
 "metadata": {
  "kernelspec": {
   "display_name": "Python 3",
   "language": "python",
   "name": "python3"
  },
  "language_info": {
   "codemirror_mode": {
    "name": "ipython",
    "version": 3
   },
   "file_extension": ".py",
   "mimetype": "text/x-python",
   "name": "python",
   "nbconvert_exporter": "python",
   "pygments_lexer": "ipython3",
   "version": "3.7.3"
  }
 },
 "nbformat": 4,
 "nbformat_minor": 2
}
