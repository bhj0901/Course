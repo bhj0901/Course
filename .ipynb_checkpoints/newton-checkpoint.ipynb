{
 "cells": [
  {
   "cell_type": "markdown",
   "metadata": {},
   "source": [
    "#  newton迭代"
   ]
  },
  {
   "cell_type": "markdown",
   "metadata": {},
   "source": [
    "#  newton迭代\n",
    "求解\n",
    "* x1^2 + x2^2 - 5 = 0\n",
    "* (x1+1)*x2 - 3*x1 + 1 = 0"
   ]
  },
  {
   "cell_type": "code",
   "execution_count": 4,
   "metadata": {},
   "outputs": [],
   "source": [
    "import numpy as np"
   ]
  },
  {
   "cell_type": "code",
   "execution_count": 5,
   "metadata": {},
   "outputs": [],
   "source": [
    "def f(x):\n",
    "    fx = np.array([[x[0][0]**2 + x[1][0]**2 - 5],\n",
    "                   [(x[0][0] + 1)*x[1][0] -3*x[0][0] - 1]])\n",
    "    return fx"
   ]
  },
  {
   "cell_type": "code",
   "execution_count": 6,
   "metadata": {},
   "outputs": [],
   "source": [
    "def jacobi(x):\n",
    "    J = np.array([[ 2*x[0][0],2*x[1][0]],\n",
    "                  [x[1][0] - 3,x[0][0] + 1]])\n",
    "    return J"
   ]
  },
  {
   "cell_type": "code",
   "execution_count": 7,
   "metadata": {},
   "outputs": [],
   "source": [
    "def newton(e,N,x):\n",
    "    k = 0\n",
    "    err = 1\n",
    "    while k < N and err > e:\n",
    "        d = np.linalg.solve(jacobi(x),-f(x))\n",
    "        err = np.linalg.norm(d)\n",
    "        x = x + d\n",
    "        print(k,'x:',x,)\n",
    "\n",
    "        k = k +1\n",
    "    return x"
   ]
  },
  {
   "cell_type": "code",
   "execution_count": 8,
   "metadata": {},
   "outputs": [
    {
     "name": "stdout",
     "output_type": "stream",
     "text": [
      "0 x: [[2.375]\n",
      " [3.75 ]]\n",
      "1 x: [[0.87218468]\n",
      " [2.74136637]]\n",
      "2 x: [[1.33714412]\n",
      " [1.99596131]]\n",
      "3 x: [[1.02643024]\n",
      " [2.01077185]]\n",
      "4 x: [[1.00006215]\n",
      " [2.00017083]]\n",
      "5 x: [[1.        ]\n",
      " [2.00000001]]\n",
      "[[1.        ]\n",
      " [2.00000001]]\n"
     ]
    }
   ],
   "source": [
    "x0 = np.array([ [6],\n",
    "                    [5] ])\n",
    "N = 10\n",
    "e = 0.001\n",
    "B=np.eye(2)\n",
    "ans=newton(e , N , x0 )\n",
    "print(ans)  "
   ]
  },
  {
   "cell_type": "code",
   "execution_count": null,
   "metadata": {},
   "outputs": [],
   "source": []
  }
 ],
 "metadata": {
  "kernelspec": {
   "display_name": "Python 3",
   "language": "python",
   "name": "python3"
  },
  "language_info": {
   "codemirror_mode": {
    "name": "ipython",
    "version": 3
   },
   "file_extension": ".py",
   "mimetype": "text/x-python",
   "name": "python",
   "nbconvert_exporter": "python",
   "pygments_lexer": "ipython3",
   "version": "3.7.3"
  }
 },
 "nbformat": 4,
 "nbformat_minor": 2
}
