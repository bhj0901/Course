{
 "cells": [
  {
   "cell_type": "markdown",
   "metadata": {},
   "source": [
    "# DFP方法"
   ]
  },
  {
   "cell_type": "code",
   "execution_count": 1,
   "metadata": {},
   "outputs": [],
   "source": [
    "import numpy as np\n",
    "from newton import f"
   ]
  },
  {
   "cell_type": "code",
   "execution_count": 29,
   "metadata": {},
   "outputs": [],
   "source": [
    "def DFP(e,N,x,B):\n",
    "    # e 为误差，N为最大迭代次数，x为初试迭代点，B为初试迭代矩阵\n",
    "    err = 1\n",
    "    k = 0 \n",
    "    y1 = [[k,x,np.linalg.norm(f(x)),err]]   #记录初始情况\n",
    "    while k < N and err >e:\n",
    "        d = -B@f(x)\n",
    "        err = np.linalg.norm(d)\n",
    "        x1 = x +d       #x1为以x出发的下一个迭代点\n",
    "        y = f(x1) - f(x)\n",
    "        B = B + (d@d.T)/(d.T@y) - B@y@y.T@B/(y.T@B@y)\n",
    "        k = k + 1    #记录迭代次数\n",
    "        x = x1    #用x替代x1，进行下一次迭代。\n",
    "        y1.append([k,x,np.linalg.norm(f(x)),err])  #记录每一次的迭代情况\n",
    "    return [y1,x]"
   ]
  },
  {
   "cell_type": "code",
   "execution_count": 27,
   "metadata": {},
   "outputs": [
    {
     "name": "stdout",
     "output_type": "stream",
     "text": [
      "[[1.00000161]\n",
      " [2.0000002 ]]\n"
     ]
    }
   ],
   "source": [
    "x0 = np.array([ [1],[1] ])\n",
    "N = 500\n",
    "e = 0.001\n",
    "B=np.eye(2)\n",
    "ans=DFP(e , N , x0 ,B)\n",
    "print(ans[1])   "
   ]
  },
  {
   "cell_type": "code",
   "execution_count": 28,
   "metadata": {},
   "outputs": [
    {
     "data": {
      "text/plain": [
       "[[0, array([[1],\n",
       "         [1]]), 3.605551275463989, 1], [1, array([[4.],\n",
       "         [3.]]), 20.09975124224178, 3.605551275463989], [2,\n",
       "  array([[1.25695222],\n",
       "         [2.77252472]]),\n",
       "  4.518379024972488,\n",
       "  2.7524636443651054], [3, array([[0.53754377],\n",
       "         [1.36294258]]), 2.899900851310434, 1.5825518477837641], [4,\n",
       "  array([[0.84697714],\n",
       "         [1.65159654]]),\n",
       "  1.630382283616295,\n",
       "  0.4231667831918482], [5, array([[1.30868163],\n",
       "         [2.52239067]]), 3.2033568561716184, 0.9856233844152087], [6,\n",
       "  array([[1.00129599],\n",
       "         [1.96179017]]),\n",
       "  0.1678826897764815,\n",
       "  0.6393425212204943], [7, array([[1.0142208 ],\n",
       "         [2.01066802]]), 0.07179840436453662, 0.05055783475839945], [8,\n",
       "  array([[1.0086863 ],\n",
       "         [2.00996679]]),\n",
       "  0.058522534899843055,\n",
       "  0.005578742395739198], [9, array([[0.98199819],\n",
       "         [1.99808315]]), 0.04561091584054303, 0.029214318314450313], [10,\n",
       "  array([[0.99182618],\n",
       "         [1.99887648]]),\n",
       "  0.02160509279278228,\n",
       "  0.009859965049079707], [11, array([[1.00113667],\n",
       "         [2.00016843]]), 0.0030548973997108456, 0.009399696143172652], [12,\n",
       "  array([[0.99997387],\n",
       "         [1.9999953 ]]),\n",
       "  7.301683357131453e-05,\n",
       "  0.0011756219162012737], [13, array([[1.00000161],\n",
       "         [2.0000002 ]]), 4.202117331146502e-06, 2.8169030020572732e-05]]"
      ]
     },
     "execution_count": 28,
     "metadata": {},
     "output_type": "execute_result"
    }
   ],
   "source": [
    "ans[0]"
   ]
  },
  {
   "cell_type": "code",
   "execution_count": null,
   "metadata": {},
   "outputs": [],
   "source": []
  }
 ],
 "metadata": {
  "kernelspec": {
   "display_name": "Python 3",
   "language": "python",
   "name": "python3"
  },
  "language_info": {
   "codemirror_mode": {
    "name": "ipython",
    "version": 3
   },
   "file_extension": ".py",
   "mimetype": "text/x-python",
   "name": "python",
   "nbconvert_exporter": "python",
   "pygments_lexer": "ipython3",
   "version": "3.7.3"
  }
 },
 "nbformat": 4,
 "nbformat_minor": 2
}
